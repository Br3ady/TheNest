{
 "cells": [
  {
   "cell_type": "code",
   "execution_count": 8,
   "metadata": {},
   "outputs": [],
   "source": [
    "from typing import Union\n",
    "import math\n",
    "\n",
    "import perceval as pcvl\n",
    "import numpy as np\n",
    "import matplotlib.pyplot as plt\n",
    "import perceval.components as comp\n",
    "from perceval.components.unitary_components import Unitary, BS, PS, StateVector, BasicState\n",
    "from perceval.rendering.circuit import DisplayConfig, SymbSkin\n",
    "from perceval.rendering.circuit import DisplayConfig, SymbSkin\n",
    "from perceval.utils.postselect import PostSelect\n",
    "\n",
    "DisplayConfig.select_skin(SymbSkin)"
   ]
  },
  {
   "cell_type": "code",
   "execution_count": 305,
   "metadata": {},
   "outputs": [
    {
     "name": "stdout",
     "output_type": "stream",
     "text": [
      "{'results': BSDistribution(<class 'float'>, {|1,0,0,0,1,0,0,0>: 0.5000000000000001, |0,1,0,0,1,0,0,0>: 0.49999999999999983}), 'physical_perf': 1, 'logical_perf': 0.004629629629629463}\n"
     ]
    }
   ],
   "source": [
    "import perceval as pcvl \n",
    "from perceval.components import BS \n",
    "import numpy as np \n",
    "theta_13 = BS.r_to_theta(r=1/3) \n",
    "cnot = (pcvl.Circuit(10, name=\"Ralph CNOT\") .add((0, 1), BS.H(theta_13, phi_bl=np.pi, phi_tr=np.pi/2, phi_tl=-np.pi/2)) .add((2,3), BS.H()) .add((7, 8), BS.H(theta_13, phi_bl=np.pi, phi_tr=np.pi/2, phi_tl=-np.pi/2)) .add((8, 9), BS.H(theta_13)) .add((3,4), BS.H())) \n",
    "tgen = pcvl.Circuit(10)\n",
    "tgen.add(1, BS.H())\n",
    "tgen.add(0, cnot)\n",
    "tgen.add(0, BS.H())\n",
    "pcvl.pdisplay(tgen)\n"
   ]
  },
  {
   "cell_type": "code",
   "execution_count": 306,
   "metadata": {},
   "outputs": [
    {
     "name": "stdout",
     "output_type": "stream",
     "text": [
      "{'results': BSDistribution(<class 'float'>, {|1,0,0,0,1,0,0,0>: 0.5000000000000001, |0,1,0,0,1,0,0,0>: 0.49999999999999983}), 'physical_perf': 1, 'logical_perf': 0.004629629629629463}\n"
     ]
    }
   ],
   "source": [
    "proc2 = pcvl.Processor(\"SLOS\", tgen)\n",
    "initial_sv = StateVector(\"|1, 1, 0, 0, 0, 0, 0, 0, 1, 1>\")\n",
    "proc2.add_herald(8,1)\n",
    "proc2.add_herald(9,1)\n",
    "ps = PostSelect(\"[0,1,2,3] == 1\")\n",
    "proc2.with_input(initial_sv)\n",
    "proc2.set_postselection(ps)\n",
    "sampler = pcvl.algorithm.Sampler(proc2)\n",
    "samples1 = sampler.samples(100)\n",
    "probability_distribution=sampler.probs()\n",
    "print(probability_distribution)"
   ]
  }
 ],
 "metadata": {
  "kernelspec": {
   "display_name": "Python 3.9.15",
   "language": "python",
   "name": "python3"
  },
  "language_info": {
   "codemirror_mode": {
    "name": "ipython",
    "version": 3
   },
   "file_extension": ".py",
   "mimetype": "text/x-python",
   "name": "python",
   "nbconvert_exporter": "python",
   "pygments_lexer": "ipython3",
   "version": "3.9.15"
  },
  "orig_nbformat": 4,
  "vscode": {
   "interpreter": {
    "hash": "e5373efdf3f82051e9457166245557d9beb2971d625e8eb3f044bf6eabbbeed6"
   }
  }
 },
 "nbformat": 4,
 "nbformat_minor": 2
}
