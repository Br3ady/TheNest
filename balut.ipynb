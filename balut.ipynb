{
 "cells": [
  {
   "cell_type": "code",
   "execution_count": 60,
   "metadata": {},
   "outputs": [],
   "source": [
    "import perceval as pcvl\n",
    "from perceval.rendering.circuit import SymbSkin, PhysSkin\n",
    "from typing import Union\n",
    "from perceval.components.unitary_components import Unitary, BS, PS, StateVector\n",
    "import numpy as np"
   ]
  },
  {
   "cell_type": "code",
   "execution_count": 43,
   "metadata": {},
   "outputs": [],
   "source": [
    "# Input: parameters of the discriminator, starting index of first node, name of discrim\n",
    "# Output: discriminator\n",
    "def create_discriminator(discriminator_params, start_mode, called):\n",
    "    pses = []\n",
    "    for i in range(6):\n",
    "        ps = PS(phi=pcvl.P(called + f'{i}'))\n",
    "        ps.assign({called + f'{i}':discriminator_params[i]})\n",
    "        pses.append(ps)\n",
    "        \n",
    "    \n",
    "    discriminator = pcvl.Circuit(4, name=called)\n",
    "    discriminator.add(start_mode, pses[0])\n",
    "    discriminator.add(start_mode+1, pses[1])\n",
    "    discriminator.add(start_mode+2, pses[2])\n",
    "    discriminator.add(start_mode+0, BS())\n",
    "    discriminator.add(start_mode+2, BS())\n",
    "    discriminator.add(start_mode, pses[3])\n",
    "    discriminator.add(start_mode+2, pses[4])\n",
    "    discriminator.add(start_mode, BS())\n",
    "    discriminator.add(start_mode+2, BS())\n",
    "    discriminator.add(start_mode+1, BS())\n",
    "    discriminator.add(start_mode+1, pses[5])\n",
    "    discriminator.add(start_mode+1, BS())\n",
    "    \n",
    "    return discriminator\n",
    "\n",
    "# Input: discriminator and new parameters\n",
    "# What it does: changes directly value of discriminator\n",
    "def set_params_discriminator(discriminator, new_params):\n",
    "    params = discriminator.get_parameters()\n",
    "    for i in range(6):\n",
    "        params[i].set_value(new_params[i])"
   ]
  },
  {
   "cell_type": "code",
   "execution_count": 44,
   "metadata": {},
   "outputs": [],
   "source": [
    "def create_generator(generator_params, start_mode, called):\n",
    "    quantum_circuit = pcvl.Circuit(4, name=called)\n",
    "    \n",
    "    pses = []\n",
    "    for i in range(15):\n",
    "        ps = PS(phi=pcvl.P(called + f'{i}'))\n",
    "        ps.assign({called + f'{i}':generator_params[i]})\n",
    "        pses.append(ps)\n",
    "    \n",
    "    quantum_circuit.add(start_mode + 1, pses[0])\n",
    "    quantum_circuit.add(start_mode + 2, pses[1])\n",
    "    quantum_circuit.add(start_mode + 3, pses[2])\n",
    "\n",
    "    quantum_circuit.add(start_mode + 1, BS())\n",
    "    quantum_circuit.add(start_mode + 1, pses[7])\n",
    "    quantum_circuit.add(start_mode + 1, BS())\n",
    "\n",
    "    # env1\n",
    "    quantum_circuit.add(start_mode, BS())\n",
    "    quantum_circuit.add(start_mode, pses[3])\n",
    "    quantum_circuit.add(start_mode, BS())\n",
    "    quantum_circuit.add(start_mode+1, pses[4])\n",
    "\n",
    "    quantum_circuit.add(start_mode + 2, BS())\n",
    "    quantum_circuit.add(start_mode + 2, pses[8])\n",
    "    quantum_circuit.add(start_mode + 2, BS())\n",
    "\n",
    "    # env2\n",
    "    quantum_circuit.add(start_mode + 1, BS())\n",
    "    quantum_circuit.add(start_mode + 1, pses[5])\n",
    "    quantum_circuit.add(start_mode + 1, BS())\n",
    "    quantum_circuit.add(start_mode + 2, pses[6])\n",
    "\n",
    "    quantum_circuit.add(start_mode, pses[9])\n",
    "\n",
    "    quantum_circuit.add(start_mode, BS())\n",
    "    quantum_circuit.add(start_mode + 2, BS())\n",
    "\n",
    "\n",
    "    quantum_circuit.add(start_mode, pses[10])\n",
    "    quantum_circuit.add(start_mode + 2, pses[11])\n",
    "\n",
    "    quantum_circuit.add(start_mode, BS())\n",
    "    quantum_circuit.add(start_mode + 2, BS())\n",
    "\n",
    "    quantum_circuit.add(start_mode, pses[12])\n",
    "    quantum_circuit.add(start_mode + 1, pses[13])\n",
    "    quantum_circuit.add(start_mode + 2, pses[14])\n",
    "    \n",
    "    return quantum_circuit\n",
    "    \n",
    "def set_params_generator(generator, new_params):\n",
    "    params = generator.get_parameters()\n",
    "    for i in range(15):\n",
    "        params[i].set_value(new_params[i])\n",
    "        \n",
    "def create_circuit(dis1, dis2, gen1, gen2, called):\n",
    "    circuit = pcvl.Circuit(8, name=called)\n",
    "    circuit.add(0, gen1)\n",
    "    circuit.add(4, gen2)\n",
    "    circuit.add(0, dis1)\n",
    "    circuit.add(4, dis2)\n",
    "    \n",
    "    return circuit\n",
    "    \n",
    "    "
   ]
  },
  {
   "cell_type": "code",
   "execution_count": 90,
   "metadata": {},
   "outputs": [
    {
     "name": "stdout",
     "output_type": "stream",
     "text": [
      "[[1 0 0 0 1 0 0 0]]\n",
      "1/2*|0,0,1,0,0,0,0,1>+1/2*|1,0,0,0,0,1,0,0>+1/2*|0,1,0,0,0,0,1,0>+1/2*|0,0,0,1,1,0,0,0>\n"
     ]
    },
    {
     "ename": "ValueError",
     "evalue": "setting an array element with a sequence. The requested array has an inhomogeneous shape after 2 dimensions. The detected shape was (4, 2) + inhomogeneous part.",
     "output_type": "error",
     "traceback": [
      "\u001b[0;31m---------------------------------------------------------------------------\u001b[0m",
      "\u001b[0;31mValueError\u001b[0m                                Traceback (most recent call last)",
      "Cell \u001b[0;32mIn[90], line 41\u001b[0m\n\u001b[1;32m     39\u001b[0m \u001b[38;5;28mprint\u001b[39m(np\u001b[38;5;241m.\u001b[39marray(samples[\u001b[38;5;124m\"\u001b[39m\u001b[38;5;124mresults\u001b[39m\u001b[38;5;124m\"\u001b[39m]))\n\u001b[1;32m     40\u001b[0m \u001b[38;5;28mprint\u001b[39m(true_sv)\n\u001b[0;32m---> 41\u001b[0m \u001b[38;5;28mprint\u001b[39m(np\u001b[38;5;241m.\u001b[39mouter(np\u001b[38;5;241m.\u001b[39marray(true_sv), np\u001b[38;5;241m.\u001b[39marray(true_sv)))\n\u001b[1;32m     42\u001b[0m \u001b[38;5;66;03m#print(np.trace(M_hat@(np.outer(np.array(true_value), np.array(true_value)))))\u001b[39;00m\n\u001b[1;32m     44\u001b[0m distance \u001b[38;5;241m=\u001b[39m \u001b[38;5;28mabs\u001b[39m(np\u001b[38;5;241m.\u001b[39mtrace(M_hat\u001b[38;5;129m@np\u001b[39m\u001b[38;5;241m.\u001b[39mouter(np\u001b[38;5;241m.\u001b[39marray(samples[\u001b[38;5;124m\"\u001b[39m\u001b[38;5;124mresults\u001b[39m\u001b[38;5;124m\"\u001b[39m]),np\u001b[38;5;241m.\u001b[39marray(samples[\u001b[38;5;124m\"\u001b[39m\u001b[38;5;124mresults\u001b[39m\u001b[38;5;124m\"\u001b[39m])))\u001b[38;5;241m-\u001b[39mnp\u001b[38;5;241m.\u001b[39mtrace(M_hat\u001b[38;5;241m@\u001b[39m(np\u001b[38;5;241m.\u001b[39mouter(np\u001b[38;5;241m.\u001b[39marray(true_value), np\u001b[38;5;241m.\u001b[39marray(true_value)))))\n",
      "\u001b[0;31mValueError\u001b[0m: setting an array element with a sequence. The requested array has an inhomogeneous shape after 2 dimensions. The detected shape was (4, 2) + inhomogeneous part."
     ]
    }
   ],
   "source": [
    "## Initialize our circuit\n",
    "DISCRIM_SIZE = 6\n",
    "GEN_SIZE = 15\n",
    "\n",
    "disc_init1 = np.random.randint(0,2,size=(DISCRIM_SIZE))\n",
    "disc_init2 = np.random.randint(0,2,size=(DISCRIM_SIZE))\n",
    "gen_init1 = np.random.randint(0,2,size=(GEN_SIZE))\n",
    "gen_init2 = np.random.randint(0,2,size=(GEN_SIZE))\n",
    "discrim1 = create_discriminator(disc_init1,0,'d_0')\n",
    "discrim2 = create_discriminator(disc_init2,0,'d_1')\n",
    "gen1 = create_generator(gen_init1,0,'g_0')\n",
    "gen2 = create_generator(gen_init2,0,'g_1')\n",
    "\n",
    "tdiscrim = pcvl.Circuit(8)\n",
    "tdiscrim.add(0, discrim1)\n",
    "tdiscrim.add(4, discrim2)\n",
    "\n",
    "tgen = pcvl.Circuit(8)\n",
    "tgen.add(0, gen1)\n",
    "tgen.add(4, gen2)\n",
    "\n",
    "M_hat = pcvl.Matrix(tdiscrim.U)\n",
    "rho_hat = pcvl.Matrix(tgen.U)\n",
    "\n",
    "#pcvl.pdisplay(M_hat)\n",
    "#pcvl.pdisplay(rho_hat)\n",
    "\n",
    "initial_sv = StateVector(\"|1,0,0,0,1,0,0,0>\") + StateVector(\"|0,1,0,0,0,1,0,0>\") + StateVector(\"|0,0,1,0,0,0,1,0>\") + StateVector(\"|0,0,0,1,0,0,0,1>\")\n",
    "true_sv = StateVector(\"|1,0,0,0,0,1,0,0>\") + StateVector(\"|0,1,0,0,0,0,1,0>\") + StateVector(\"|0,0,1,0,0,0,0,1>\") + StateVector(\"|0,0,0,1,1,0,0,0>\")\n",
    "\n",
    "proc = pcvl.Processor(\"SLOS\", tgen)\n",
    "proc.with_input(initial_sv)\n",
    "sampler = pcvl.algorithm.Sampler(proc)\n",
    "samples = sampler.samples(1)\n",
    "probability_distribution = sampler.probs()\n",
    "#print(samples[\"results\"])\n",
    "#print(probability_distribution)\n",
    "\n",
    "print(np.array(samples[\"results\"]))\n",
    "print(true_sv)\n",
    "print(np.outer(np.array(true_sv), np.array(true_sv)))\n",
    "#print(np.trace(M_hat@(np.outer(np.array(true_value), np.array(true_value)))))\n",
    "\n",
    "distance = abs(np.trace(M_hat@np.outer(np.array(samples[\"results\"]),np.array(samples[\"results\"])))-np.trace(M_hat@(np.outer(np.array(true_value), np.array(true_value)))))\n"
   ]
  },
  {
   "cell_type": "code",
   "execution_count": 19,
   "metadata": {},
   "outputs": [
    {
     "ename": "NameError",
     "evalue": "name 'Net' is not defined",
     "output_type": "error",
     "traceback": [
      "\u001b[0;31m---------------------------------------------------------------------------\u001b[0m",
      "\u001b[0;31mNameError\u001b[0m                                 Traceback (most recent call last)",
      "Cell \u001b[0;32mIn[19], line 4\u001b[0m\n\u001b[1;32m      1\u001b[0m \u001b[38;5;66;03m##Backprop\u001b[39;00m\n\u001b[1;32m      2\u001b[0m \n\u001b[1;32m      3\u001b[0m \u001b[38;5;66;03m#Input: circuit, []\u001b[39;00m\n\u001b[0;32m----> 4\u001b[0m \u001b[38;5;28;01mclass\u001b[39;00m \u001b[38;5;21;01mBackProp\u001b[39;00m(Net,data):\n\u001b[1;32m      5\u001b[0m     \u001b[38;5;28;01mdef\u001b[39;00m \u001b[38;5;21m__init__\u001b[39m(\u001b[38;5;28mself\u001b[39m,Net):\n\u001b[1;32m      6\u001b[0m         \u001b[38;5;28mself\u001b[39m\u001b[38;5;241m.\u001b[39mWeights \u001b[38;5;241m=\u001b[39m pcvl\u001b[38;5;241m.\u001b[39mMatrix(Net\u001b[38;5;241m.\u001b[39mU)\n",
      "\u001b[0;31mNameError\u001b[0m: name 'Net' is not defined"
     ]
    }
   ],
   "source": [
    "##Backprop\n",
    "def calculate_cost()\n",
    "\n",
    "#Input: circuit, []\n",
    "class BackProp(Net,data):\n",
    "    def __init__(self,Net):\n",
    "        self.Weights = pcvl.Matrix(Net.U)\n",
    "    def Loss(self,):\n",
    "        pass ##TODO: Use get theta function instead of get mat, update thetas and push using ^ function "
   ]
  },
  {
   "cell_type": "code",
   "execution_count": null,
   "metadata": {},
   "outputs": [],
   "source": []
  }
 ],
 "metadata": {
  "kernelspec": {
   "display_name": "Python 3 (ipykernel)",
   "language": "python",
   "name": "python3"
  },
  "language_info": {
   "codemirror_mode": {
    "name": "ipython",
    "version": 3
   },
   "file_extension": ".py",
   "mimetype": "text/x-python",
   "name": "python",
   "nbconvert_exporter": "python",
   "pygments_lexer": "ipython3",
   "version": "3.11.5"
  },
  "vscode": {
   "interpreter": {
    "hash": "aee8b7b246df8f9039afb4144a1f6fd8d2ca17a180786b69acc140d282b71a49"
   }
  }
 },
 "nbformat": 4,
 "nbformat_minor": 2
}
